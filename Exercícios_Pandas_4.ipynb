{
 "cells": [
  {
   "cell_type": "markdown",
   "id": "38d47dcd",
   "metadata": {},
   "source": [
    "## Exercícios"
   ]
  },
  {
   "cell_type": "markdown",
   "id": "bcbb9a57",
   "metadata": {},
   "source": [
    "1. Considere a existência de três tabelas distintas:\n",
    "* customer.csv : Possui a informação dos clientes em duas colunas: customer id  customer name\n",
    "* products.csv : Conté informação dos produtos vendidos pela empresa em três colunas - p_id (product id), product (name) e price\n",
    "* sales.csv : Contém informações das vendas realizadas em seis colunas - sale_id, c_id (customer id), p_id (product_id), qty (quantity sold), store (name)\n",
    "\n",
    "Conhecendo as bases e utilizando os métodos de concatenação de bases responda:\n"
   ]
  },
  {
   "cell_type": "markdown",
   "id": "293f39a7",
   "metadata": {},
   "source": [
    "a) Quais produtos não foram vendidos?"
   ]
  },
  {
   "cell_type": "code",
   "execution_count": 82,
   "id": "54ba57d4",
   "metadata": {},
   "outputs": [],
   "source": [
    "import pandas as pd\n",
    "import numpy as np\n",
    "\n",
    "customers = pd.read_csv(r'C:\\Users\\4bit\\Desktop\\DSD\\MÓDULO 04 - Técnicas de programação\\Lets_Code_DS_Degree_Alunos\\Módulo 3 - Pandas\\data\\customer.csv')\n",
    "products = pd.read_csv(r'C:\\Users\\4bit\\Desktop\\DSD\\MÓDULO 04 - Técnicas de programação\\Lets_Code_DS_Degree_Alunos\\Módulo 3 - Pandas\\data\\products.csv')\n",
    "sales = pd.read_csv(r'C:\\Users\\4bit\\Desktop\\DSD\\MÓDULO 04 - Técnicas de programação\\Lets_Code_DS_Degree_Alunos\\Módulo 3 - Pandas\\data\\sales.csv')"
   ]
  },
  {
   "cell_type": "code",
   "execution_count": 96,
   "id": "f7c2dbbc",
   "metadata": {},
   "outputs": [
    {
     "data": {
      "text/plain": [
       "0        Hard Disk\n",
       "10        Keyboard\n",
       "11           Mouse\n",
       "12     Motherboard\n",
       "13    Power supply\n",
       "Name: product, dtype: object"
      ]
     },
     "execution_count": 96,
     "metadata": {},
     "output_type": "execute_result"
    }
   ],
   "source": [
    "df = sales.merge(products[['product']], how=\"right\", on=\"product\")\n",
    "df[df['sale_id'].isna()]['product']"
   ]
  },
  {
   "cell_type": "markdown",
   "id": "2b936ab2",
   "metadata": {},
   "source": [
    "b) Quantos clientes não realizaram uma compra? "
   ]
  },
  {
   "cell_type": "code",
   "execution_count": 114,
   "id": "e0db3bf5",
   "metadata": {},
   "outputs": [
    {
     "data": {
      "text/plain": [
       "9     King\n",
       "10    Ronn\n",
       "11     Jem\n",
       "12     Tom\n",
       "Name: Customer, dtype: object"
      ]
     },
     "execution_count": 114,
     "metadata": {},
     "output_type": "execute_result"
    }
   ],
   "source": [
    "df = sales.merge(customers[['c_id', 'Customer']], how=\"right\", on=\"c_id\")\n",
    "df[df['p_id'].isna()]['Customer']"
   ]
  },
  {
   "cell_type": "markdown",
   "id": "ccb7e752",
   "metadata": {},
   "source": [
    "c) Liste a quantidade vendida e o faturamento de cada produto "
   ]
  },
  {
   "cell_type": "code",
   "execution_count": 146,
   "id": "5f3e3657",
   "metadata": {},
   "outputs": [
    {
     "data": {
      "text/html": [
       "<div>\n",
       "<style scoped>\n",
       "    .dataframe tbody tr th:only-of-type {\n",
       "        vertical-align: middle;\n",
       "    }\n",
       "\n",
       "    .dataframe tbody tr th {\n",
       "        vertical-align: top;\n",
       "    }\n",
       "\n",
       "    .dataframe thead th {\n",
       "        text-align: right;\n",
       "    }\n",
       "</style>\n",
       "<table border=\"1\" class=\"dataframe\">\n",
       "  <thead>\n",
       "    <tr style=\"text-align: right;\">\n",
       "      <th></th>\n",
       "      <th>qty</th>\n",
       "      <th>fat</th>\n",
       "    </tr>\n",
       "    <tr>\n",
       "      <th>product</th>\n",
       "      <th></th>\n",
       "      <th></th>\n",
       "    </tr>\n",
       "  </thead>\n",
       "  <tbody>\n",
       "    <tr>\n",
       "      <th>CPU</th>\n",
       "      <td>1</td>\n",
       "      <td>55</td>\n",
       "    </tr>\n",
       "    <tr>\n",
       "      <th>Monitor</th>\n",
       "      <td>12</td>\n",
       "      <td>900</td>\n",
       "    </tr>\n",
       "    <tr>\n",
       "      <th>RAM</th>\n",
       "      <td>7</td>\n",
       "      <td>630</td>\n",
       "    </tr>\n",
       "  </tbody>\n",
       "</table>\n",
       "</div>"
      ],
      "text/plain": [
       "         qty  fat\n",
       "product          \n",
       "CPU        1   55\n",
       "Monitor   12  900\n",
       "RAM        7  630"
      ]
     },
     "execution_count": 146,
     "metadata": {},
     "output_type": "execute_result"
    }
   ],
   "source": [
    "df = sales.merge(products, how='left', on=['p_id','product'])\n",
    "df\n",
    "df['fat'] = df['qty'] * df['price']\n",
    "df.groupby(['product'])[['qty','fat']].sum()"
   ]
  },
  {
   "cell_type": "markdown",
   "id": "f8fe5c98",
   "metadata": {},
   "source": [
    "d) Liste a quantidade vendida de cada produto por loja"
   ]
  },
  {
   "cell_type": "code",
   "execution_count": 155,
   "id": "ffd0627e",
   "metadata": {},
   "outputs": [
    {
     "data": {
      "text/html": [
       "<div>\n",
       "<style scoped>\n",
       "    .dataframe tbody tr th:only-of-type {\n",
       "        vertical-align: middle;\n",
       "    }\n",
       "\n",
       "    .dataframe tbody tr th {\n",
       "        vertical-align: top;\n",
       "    }\n",
       "\n",
       "    .dataframe thead th {\n",
       "        text-align: right;\n",
       "    }\n",
       "</style>\n",
       "<table border=\"1\" class=\"dataframe\">\n",
       "  <thead>\n",
       "    <tr style=\"text-align: right;\">\n",
       "      <th></th>\n",
       "      <th></th>\n",
       "      <th>qty</th>\n",
       "    </tr>\n",
       "    <tr>\n",
       "      <th>product</th>\n",
       "      <th>store</th>\n",
       "      <th></th>\n",
       "    </tr>\n",
       "  </thead>\n",
       "  <tbody>\n",
       "    <tr>\n",
       "      <th>CPU</th>\n",
       "      <th>DEF</th>\n",
       "      <td>1</td>\n",
       "    </tr>\n",
       "    <tr>\n",
       "      <th rowspan=\"2\" valign=\"top\">Monitor</th>\n",
       "      <th>ABC</th>\n",
       "      <td>10</td>\n",
       "    </tr>\n",
       "    <tr>\n",
       "      <th>DEF</th>\n",
       "      <td>2</td>\n",
       "    </tr>\n",
       "    <tr>\n",
       "      <th rowspan=\"2\" valign=\"top\">RAM</th>\n",
       "      <th>ABC</th>\n",
       "      <td>3</td>\n",
       "    </tr>\n",
       "    <tr>\n",
       "      <th>DEF</th>\n",
       "      <td>4</td>\n",
       "    </tr>\n",
       "  </tbody>\n",
       "</table>\n",
       "</div>"
      ],
      "text/plain": [
       "               qty\n",
       "product store     \n",
       "CPU     DEF      1\n",
       "Monitor ABC     10\n",
       "        DEF      2\n",
       "RAM     ABC      3\n",
       "        DEF      4"
      ]
     },
     "execution_count": 155,
     "metadata": {},
     "output_type": "execute_result"
    }
   ],
   "source": [
    "sales.groupby(['product', 'store'])[['qty']].sum()"
   ]
  },
  {
   "cell_type": "markdown",
   "id": "9b4fd093",
   "metadata": {},
   "source": [
    "e) Qual loja teve maior faturamento?"
   ]
  },
  {
   "cell_type": "code",
   "execution_count": 162,
   "id": "96420b70",
   "metadata": {},
   "outputs": [
    {
     "data": {
      "text/html": [
       "<div>\n",
       "<style scoped>\n",
       "    .dataframe tbody tr th:only-of-type {\n",
       "        vertical-align: middle;\n",
       "    }\n",
       "\n",
       "    .dataframe tbody tr th {\n",
       "        vertical-align: top;\n",
       "    }\n",
       "\n",
       "    .dataframe thead th {\n",
       "        text-align: right;\n",
       "    }\n",
       "</style>\n",
       "<table border=\"1\" class=\"dataframe\">\n",
       "  <thead>\n",
       "    <tr style=\"text-align: right;\">\n",
       "      <th></th>\n",
       "      <th>fat</th>\n",
       "    </tr>\n",
       "    <tr>\n",
       "      <th>store</th>\n",
       "      <th></th>\n",
       "    </tr>\n",
       "  </thead>\n",
       "  <tbody>\n",
       "    <tr>\n",
       "      <th>ABC</th>\n",
       "      <td>1020</td>\n",
       "    </tr>\n",
       "    <tr>\n",
       "      <th>DEF</th>\n",
       "      <td>565</td>\n",
       "    </tr>\n",
       "  </tbody>\n",
       "</table>\n",
       "</div>"
      ],
      "text/plain": [
       "        fat\n",
       "store      \n",
       "ABC    1020\n",
       "DEF     565"
      ]
     },
     "execution_count": 162,
     "metadata": {},
     "output_type": "execute_result"
    }
   ],
   "source": [
    "df = sales.merge(products, how='left', on=['p_id','product'])\n",
    "df\n",
    "df['fat'] = df['qty'] * df['price']\n",
    "df.groupby('store')[['fat']].sum()"
   ]
  },
  {
   "cell_type": "markdown",
   "id": "106837bf",
   "metadata": {},
   "source": [
    "f) Qual produto foi o mais vendido?"
   ]
  },
  {
   "cell_type": "code",
   "execution_count": 174,
   "id": "7de9deb2",
   "metadata": {},
   "outputs": [
    {
     "data": {
      "text/plain": [
       "product\n",
       "Monitor    12\n",
       "Name: qty, dtype: int64"
      ]
     },
     "execution_count": 174,
     "metadata": {},
     "output_type": "execute_result"
    }
   ],
   "source": [
    "sales.groupby('product')['qty'].sum().sort_values(ascending=False).head(1)"
   ]
  }
 ],
 "metadata": {
  "kernelspec": {
   "display_name": "Python 3",
   "language": "python",
   "name": "python3"
  },
  "language_info": {
   "codemirror_mode": {
    "name": "ipython",
    "version": 3
   },
   "file_extension": ".py",
   "mimetype": "text/x-python",
   "name": "python",
   "nbconvert_exporter": "python",
   "pygments_lexer": "ipython3",
   "version": "3.9.5"
  }
 },
 "nbformat": 4,
 "nbformat_minor": 5
}
