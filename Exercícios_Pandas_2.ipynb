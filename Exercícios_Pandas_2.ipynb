{
 "cells": [
  {
   "cell_type": "markdown",
   "id": "360c9c00",
   "metadata": {},
   "source": [
    "## Exercícios"
   ]
  },
  {
   "cell_type": "markdown",
   "id": "62474b46",
   "metadata": {},
   "source": [
    "1. Considere a existência de três tabelas distintas:\n",
    "* customer.csv : Possui a informação dos clientes em duas colunas: customer id  customer name\n",
    "* products.csv : Contém informação dos produtos vendidos pela empresa em três colunas - p_id (product id), product (name) e price\n",
    "* sales.csv : Contém informações das vendas realizadas em seis colunas - sale_id, c_id (customer id), p_id (product_id), qty (quantity sold), store (name)\n",
    "\n",
    "Conhecendo as bases responda:\n",
    "\n",
    "a) Quais foram os produtos vendidos? "
   ]
  },
  {
   "cell_type": "code",
   "execution_count": 1,
   "id": "855ebb9e",
   "metadata": {},
   "outputs": [],
   "source": [
    "import pandas as pd\n",
    "customer = pd.read_csv(r'C:\\Users\\4bit\\Desktop\\DSD\\MÓDULO 04 - Técnicas de programação\\Lets_Code_DS_Degree_Alunos\\Módulo 3 - Pandas\\data\\customer.csv')\n",
    "products = pd.read_csv(r'C:\\Users\\4bit\\Desktop\\DSD\\MÓDULO 04 - Técnicas de programação\\Lets_Code_DS_Degree_Alunos\\Módulo 3 - Pandas\\data\\products.csv')\n",
    "sales = pd.read_csv(r'C:\\Users\\4bit\\Desktop\\DSD\\MÓDULO 04 - Técnicas de programação\\Lets_Code_DS_Degree_Alunos\\Módulo 3 - Pandas\\data\\sales.csv')"
   ]
  },
  {
   "cell_type": "code",
   "execution_count": 2,
   "id": "b768cadf",
   "metadata": {},
   "outputs": [
    {
     "name": "stdout",
     "output_type": "stream",
     "text": [
      "['Monitor' 'CPU' 'RAM']\n"
     ]
    }
   ],
   "source": [
    "vendidos = sales.loc[:,'product'].unique()\n",
    "print(vendidos)"
   ]
  },
  {
   "cell_type": "markdown",
   "id": "c635290a",
   "metadata": {},
   "source": [
    "b) E os não vendidos?"
   ]
  },
  {
   "cell_type": "code",
   "execution_count": 3,
   "id": "b75e0cfc",
   "metadata": {},
   "outputs": [
    {
     "data": {
      "text/plain": [
       "['Hard Disk', 'Keyboard', 'Mouse', 'Motherboard', 'Power supply']"
      ]
     },
     "execution_count": 3,
     "metadata": {},
     "output_type": "execute_result"
    }
   ],
   "source": [
    "[i for i in products.loc[:, 'product'].unique() if i not in vendidos]"
   ]
  },
  {
   "cell_type": "markdown",
   "id": "7b5ec2e7",
   "metadata": {},
   "source": [
    "c) Quais foram as cinco maiores vendas? Salve essas vendas em um arquivo excel."
   ]
  },
  {
   "cell_type": "code",
   "execution_count": 74,
   "id": "7927a25d",
   "metadata": {},
   "outputs": [
    {
     "data": {
      "text/html": [
       "<div>\n",
       "<style scoped>\n",
       "    .dataframe tbody tr th:only-of-type {\n",
       "        vertical-align: middle;\n",
       "    }\n",
       "\n",
       "    .dataframe tbody tr th {\n",
       "        vertical-align: top;\n",
       "    }\n",
       "\n",
       "    .dataframe thead th {\n",
       "        text-align: right;\n",
       "    }\n",
       "</style>\n",
       "<table border=\"1\" class=\"dataframe\">\n",
       "  <thead>\n",
       "    <tr style=\"text-align: right;\">\n",
       "      <th></th>\n",
       "      <th>product</th>\n",
       "      <th>qty</th>\n",
       "    </tr>\n",
       "  </thead>\n",
       "  <tbody>\n",
       "    <tr>\n",
       "      <th>2</th>\n",
       "      <td>Monitor</td>\n",
       "      <td>3</td>\n",
       "    </tr>\n",
       "    <tr>\n",
       "      <th>4</th>\n",
       "      <td>Monitor</td>\n",
       "      <td>3</td>\n",
       "    </tr>\n",
       "    <tr>\n",
       "      <th>6</th>\n",
       "      <td>RAM</td>\n",
       "      <td>3</td>\n",
       "    </tr>\n",
       "    <tr>\n",
       "      <th>0</th>\n",
       "      <td>Monitor</td>\n",
       "      <td>2</td>\n",
       "    </tr>\n",
       "    <tr>\n",
       "      <th>3</th>\n",
       "      <td>RAM</td>\n",
       "      <td>2</td>\n",
       "    </tr>\n",
       "  </tbody>\n",
       "</table>\n",
       "</div>"
      ],
      "text/plain": [
       "   product  qty\n",
       "2  Monitor    3\n",
       "4  Monitor    3\n",
       "6      RAM    3\n",
       "0  Monitor    2\n",
       "3      RAM    2"
      ]
     },
     "execution_count": 74,
     "metadata": {},
     "output_type": "execute_result"
    }
   ],
   "source": [
    "maiores_vendas = sales.loc[:, ['product','qty']].sort_values('qty', ascending=False).head()\n",
    "maiores_vendas.to_excel(r'C:\\Users\\4bit\\Desktop\\resultado.xlsx', index=False)\n",
    "maiores_vendas"
   ]
  },
  {
   "cell_type": "markdown",
   "id": "8b31ca1c",
   "metadata": {},
   "source": [
    "d) Liste a quantidade vendida de cada produto. Utilize um loop for para isso."
   ]
  },
  {
   "cell_type": "code",
   "execution_count": 5,
   "id": "8145a05c",
   "metadata": {},
   "outputs": [
    {
     "name": "stdout",
     "output_type": "stream",
     "text": [
      "Monitor 12\n",
      "CPU 1\n",
      "RAM 7\n"
     ]
    }
   ],
   "source": [
    "produtos = sales.loc[:,'product'].unique()\n",
    "\n",
    "for i in produtos:\n",
    "    print(i, sales[sales['product']==i].qty.sum())"
   ]
  },
  {
   "cell_type": "markdown",
   "id": "d1730063",
   "metadata": {},
   "source": [
    "e) Liste a quantidade vendida de cada loja."
   ]
  },
  {
   "cell_type": "code",
   "execution_count": 11,
   "id": "7adedc3d",
   "metadata": {},
   "outputs": [
    {
     "name": "stdout",
     "output_type": "stream",
     "text": [
      "ABC 13\n",
      "DEF 7\n"
     ]
    }
   ],
   "source": [
    "lojas = sales.loc[:,'store'].unique()\n",
    "\n",
    "for i in lojas:\n",
    "    print(i, sales[sales['store']==i].qty.sum())"
   ]
  },
  {
   "cell_type": "markdown",
   "id": "e7d12374",
   "metadata": {},
   "source": [
    "f) Liste a quantidade vendida de cada produto por loja."
   ]
  },
  {
   "cell_type": "code",
   "execution_count": 17,
   "id": "ed2f1319",
   "metadata": {},
   "outputs": [
    {
     "name": "stdout",
     "output_type": "stream",
     "text": [
      "Loja  ABC\n",
      "Monitor 10\n",
      "CPU 0\n",
      "RAM 3\n",
      "\n",
      "\n",
      "Loja  DEF\n",
      "Monitor 2\n",
      "CPU 1\n",
      "RAM 4\n",
      "\n",
      "\n"
     ]
    }
   ],
   "source": [
    "vendidos = sales.loc[:,'product'].unique()\n",
    "lojas = sales.loc[:,'store'].unique()\n",
    "\n",
    "for loja in lojas:\n",
    "    print('Loja ', loja)\n",
    "    for item in vendidos:\n",
    "        print(item, sales[(sales['product']==item) & (sales['store']==loja)].qty.sum())\n",
    "    print('\\n')"
   ]
  }
 ],
 "metadata": {
  "kernelspec": {
   "display_name": "Python 3",
   "language": "python",
   "name": "python3"
  },
  "language_info": {
   "codemirror_mode": {
    "name": "ipython",
    "version": 3
   },
   "file_extension": ".py",
   "mimetype": "text/x-python",
   "name": "python",
   "nbconvert_exporter": "python",
   "pygments_lexer": "ipython3",
   "version": "3.9.5"
  }
 },
 "nbformat": 4,
 "nbformat_minor": 5
}
